{
  "nbformat": 4,
  "nbformat_minor": 0,
  "metadata": {
    "colab": {
      "provenance": [],
      "include_colab_link": true
    },
    "kernelspec": {
      "name": "python3",
      "display_name": "Python 3"
    }
  },
  "cells": [
    {
      "cell_type": "markdown",
      "metadata": {
        "id": "view-in-github",
        "colab_type": "text"
      },
      "source": [
        "<a href=\"https://colab.research.google.com/github/ggonzalezbo/MetNumUN2024I/blob/main/Lab4/ggonzalezbo_Lab4.ipynb\" target=\"_parent\"><img src=\"https://colab.research.google.com/assets/colab-badge.svg\" alt=\"Open In Colab\"/></a>"
      ]
    },
    {
      "cell_type": "markdown",
      "metadata": {
        "id": "vtY1shFnMal_"
      },
      "source": [
        "# SymPyLab\n",
        "\n",
        "SymPy’s documentation\n",
        "- https://docs.sympy.org/latest/index.html\n"
      ]
    },
    {
      "cell_type": "markdown",
      "metadata": {
        "id": "2U0fAIf5G4rR"
      },
      "source": [
        "## SymPy’s polynomials\n",
        "- https://docs.sympy.org/latest/modules/polys/basics.html#polynomials\n",
        "\n",
        "$$ P_n(x) =  a_n x^n + a_{n-1} x^{n-1} + a_{n-2} x^{n-2} +\\cdots +  a_1 x  + a_0$$\n",
        "\n",
        "$$P_n(x) = 0 $$\n",
        "\n",
        "$$a_n x^n + a_{n-1} x^{n-1} + a_{n-2} x^{n-2} +\\cdots +  a_1 x  + a_0 = 0$$\n",
        "\n",
        "$$(x-r_1) Q_{n-1}(x) = P_n(x)$$\n",
        "$$(x-r_1) (x - r_2) Q_{n-2}(x) = P_n(x)$$\n",
        "$$ \\vdots $$\n",
        "\n",
        "- (x-1)(x-2)(x-3)(x-4)(x-5) = x^5 - 15 x^4  + 85 x^3 - 225 x^2 + 274 x - 120\n",
        "\n",
        "- (x^5 - 15 x^4  + 85 x^3 - 225 x^2 + 274 x - 120) / (x-1) = x^4  - 14 x^3  + 71 x^2  - 154 x + 120"
      ]
    },
    {
      "cell_type": "markdown",
      "source": [
        "# Number of operations to compute a polynomial\n",
        "## Extended\n",
        "$$ a_5 x^5 + a_4 x^4 + a_3 x^3 + a_2 x^2 + a_1 x + a_0 = a_5*x*x*x*x*x + a_4*x*x*x*x  + a_3*x*x*x + a_2*x*x + a_1*x + a_0$$\n",
        "\n",
        "$$ 5+4+3+2+1 = \\frac{5*6}{2} (*) + 5 (+)  =20 \\text{ ops} $$\n",
        "\n",
        "$$ a_n x^n + a_{n-1} x^{n-1} + a_{n-2} x^{n-2} + \\cdots + a_2 x^2 + a_1 x + a_0$$\n",
        "\n",
        "$$ \\frac{n(n+1)}{2} (*) + n (+)  =\\frac{n^2}{2} + \\frac{3}{2} n\\text{ ops} $$\n",
        "\n"
      ],
      "metadata": {
        "id": "iV7J1ub3isEY"
      }
    },
    {
      "cell_type": "markdown",
      "source": [
        "## Monomials product\n",
        "\n",
        "$$(x-r_1)(x-r_2)(x-r_3)(x-r_4)(x-r_5)$$\n",
        "\n",
        "\n",
        "$$ 5 (-) + 4 (*) = 9  \\text{ ops} $$\n",
        "\n",
        "$$(x-r_1)(x-r_2)(x-r_3)\\cdots (x-r_{n-1})(x-r_n)$$\n",
        "\n",
        "$$ n-1 (*) + n (-)  =  2n-1 \\text{ ops} $$\n",
        "\n"
      ],
      "metadata": {
        "id": "YGC8uqA7Ef9K"
      }
    },
    {
      "cell_type": "markdown",
      "source": [
        "## Nexted\n",
        "$$  ((((a_5 x+ a_4 )x  + a_3) x + a_2)x +a_1)x + a_0 $$\n",
        "\n",
        "$$ 5 (*) + 5 (+)  = 10 \\text{ ops} $$\n",
        "\n",
        "\n",
        "$$ ((((a_n x+ a_{n-1} )x  + a_{n-1}) x + \\cdots a_2)x +a_1)x + a_0 $$\n",
        "\n",
        "$$ n (*) + n (+)  = 2n \\text{ ops} $$\n"
      ],
      "metadata": {
        "id": "WEKZEw1VGKtC"
      }
    },
    {
      "cell_type": "markdown",
      "source": [
        "# Nuestro polinomio\n",
        "$$ \\vdots $$\n",
        "\n",
        "- P(x)=(x-10)(x-21)(x-8)(x-7)(x-2)(x-3)(x-4)(x-5)(x-9)(x-11)\n",
        "\n",
        "- x^10 - 80 x^9 + 2745 x^8 - 53400 x^7 + 653223 x^6 - 5250480 x^5 + 28055555 x^4 - 98234200 x^3 + 215195676 x^2 - 265562640 x + 139708800\n"
      ],
      "metadata": {
        "id": "EAhfGyLzxkEH"
      }
    },
    {
      "cell_type": "markdown",
      "metadata": {
        "id": "GSRpl42A6UXg"
      },
      "source": [
        "<img src=\"https://raw.githubusercontent.com/ggonzalezbo/Imagenes/main/Metnum1.PNG\" /> <img src=\"https://raw.githubusercontent.com/ggonzalezbo/Imagenes/main/Metnum2.PNG\" />\n"
      ]
    },
    {
      "cell_type": "code",
      "metadata": {
        "id": "Fw1yPZWLMb5P",
        "colab": {
          "base_uri": "https://localhost:8080/"
        },
        "outputId": "e7d1ead7-c9ba-4acb-d638-7c7ad1252366"
      },
      "source": [
        "from sympy import Symbol\n",
        "from sympy import div\n",
        "\n",
        "x = Symbol('x')\n",
        "\n",
        "p = x**10 - 80*x**9 + 2745*x**8 - 53400*x**7 + 653223*x**6 - 5250480*x**5 + 28055555*x**4 - 98234200*x**3 + 215195676*x**2 - 265562640*x + 139708800\n",
        "\n",
        "p, r = div(p,  x-10)\n",
        "\n",
        "print(p)\n",
        "print(r)\n",
        "\n",
        "p, r = div(p,  x-21)\n",
        "\n",
        "print(p)\n",
        "print(r)\n",
        "\n",
        "p, r = div(p,  x-8)\n",
        "\n",
        "print(p)\n",
        "print(r)\n",
        "\n",
        "p, r = div(p,  x-7)\n",
        "\n",
        "print(p)\n",
        "print(r)\n",
        "\n",
        "p, r = div(p,  x-2)\n",
        "\n",
        "print(p)\n",
        "print(r)\n",
        "\n",
        "p, r = div(p,  x-3)\n",
        "\n",
        "print(p)\n",
        "print(r)\n",
        "\n",
        "p, r = div(p,  x-4)\n",
        "\n",
        "print(p)\n",
        "print(r)\n",
        "\n",
        "p, r = div(p,  x-5)\n",
        "\n",
        "print(p)\n",
        "print(r)\n",
        "\n",
        "p, r = div(p,  x-9)\n",
        "\n",
        "print(p)\n",
        "print(r)\n"
      ],
      "execution_count": null,
      "outputs": [
        {
          "output_type": "stream",
          "name": "stdout",
          "text": [
            "x**9 - 70*x**8 + 2045*x**7 - 32950*x**6 + 323723*x**5 - 2013250*x**4 + 7923055*x**3 - 19003650*x**2 + 25159176*x - 13970880\n",
            "0\n",
            "x**8 - 49*x**7 + 1016*x**6 - 11614*x**5 + 79829*x**4 - 336841*x**3 + 849394*x**2 - 1166376*x + 665280\n",
            "0\n",
            "x**7 - 41*x**6 + 688*x**5 - 6110*x**4 + 30949*x**3 - 89249*x**2 + 135402*x - 83160\n",
            "0\n",
            "x**6 - 34*x**5 + 450*x**4 - 2960*x**3 + 10229*x**2 - 17646*x + 11880\n",
            "0\n",
            "x**5 - 32*x**4 + 386*x**3 - 2188*x**2 + 5853*x - 5940\n",
            "0\n",
            "x**4 - 29*x**3 + 299*x**2 - 1291*x + 1980\n",
            "0\n",
            "x**3 - 25*x**2 + 199*x - 495\n",
            "0\n",
            "x**2 - 20*x + 99\n",
            "0\n",
            "x - 11\n",
            "0\n"
          ]
        }
      ]
    },
    {
      "cell_type": "code",
      "metadata": {
        "colab": {
          "base_uri": "https://localhost:8080/"
        },
        "id": "gQ-VwywTarYw",
        "outputId": "a4d5ac34-96a8-4625-b70c-0a38b33b5a8f"
      },
      "source": [
        "p = x**10 - 80*x**9 + 2745*x**8 - 53400*x**7 + 653223*x**6 - 5250480*x**5 + 28055555*x**4 - 98234200*x**3 + 215195676*x**2 - 265562640*x + 139708800\n",
        "\n",
        "p, r = div(p,  x-6)\n",
        "\n",
        "print(p)\n",
        "print(r)"
      ],
      "execution_count": null,
      "outputs": [
        {
          "output_type": "stream",
          "name": "stdout",
          "text": [
            "x**9 - 74*x**8 + 2301*x**7 - 39594*x**6 + 415659*x**5 - 2756526*x**4 + 11516399*x**3 - 29135806*x**2 + 40380840*x - 23277600\n",
            "43200\n"
          ]
        }
      ]
    },
    {
      "cell_type": "markdown",
      "metadata": {
        "id": "LrP1xT6VKZrE"
      },
      "source": [
        "## SymPy’s polynomial simple univariate polynomial factorization\n",
        "- https://docs.sympy.org/latest/modules/polys/wester.html#simple-univariate-polynomial-factorization\n",
        "- factor(x^10 - 80 x^9 + 2745 x^8 - 53400 x^7 + 653223 x^6 - 5250480 x^5 + 28055555 x^4 - 98234200 x^3 + 215195676 x^2 - 265562640 x + 139708800)"
      ]
    },
    {
      "cell_type": "markdown",
      "metadata": {
        "id": "2NPChCoPLsls"
      },
      "source": [
        "<img src=\"https://raw.githubusercontent.com/ggonzalezbo/Imagenes/main/Metnum3.PNG\" />\n",
        "\n"
      ]
    },
    {
      "cell_type": "code",
      "metadata": {
        "id": "i2vHjXOIKvQu",
        "colab": {
          "base_uri": "https://localhost:8080/",
          "height": 38
        },
        "outputId": "48143136-a10c-4ebe-f6f8-1b6adf6bbb8f"
      },
      "source": [
        "from sympy import Symbol,factor\n",
        "x = Symbol('x')\n",
        "factor(x**10 - 80*x**9 + 2745*x**8 - 53400*x**7 + 653223*x**6 - 5250480*x**5 + 28055555*x**4 - 98234200*x**3 + 215195676*x**2 - 265562640*x + 139708800)"
      ],
      "execution_count": null,
      "outputs": [
        {
          "output_type": "execute_result",
          "data": {
            "text/plain": [
              "(x - 21)*(x - 11)*(x - 10)*(x - 9)*(x - 8)*(x - 7)*(x - 5)*(x - 4)*(x - 3)*(x - 2)"
            ],
            "text/latex": "$\\displaystyle \\left(x - 21\\right) \\left(x - 11\\right) \\left(x - 10\\right) \\left(x - 9\\right) \\left(x - 8\\right) \\left(x - 7\\right) \\left(x - 5\\right) \\left(x - 4\\right) \\left(x - 3\\right) \\left(x - 2\\right)$"
          },
          "metadata": {},
          "execution_count": 25
        }
      ]
    },
    {
      "cell_type": "markdown",
      "metadata": {
        "id": "xoq8A5ipMdRa"
      },
      "source": [
        "## SymPy’s solvers\n",
        "- https://docs.sympy.org/latest/tutorial/solvers.html\n",
        "- x^10 - 80 x^9 + 2745 x^8 - 53400 x^7 + 653223 x^6 - 5250480 x^5 + 28055555 x^4 - 98234200 x^3 + 215195676 x^2 - 265562640 x + 139708800 = 0"
      ]
    },
    {
      "cell_type": "markdown",
      "metadata": {
        "id": "UpEjlqXZMk8i"
      },
      "source": [
        "<img src=\"https://raw.githubusercontent.com/ggonzalezbo/Imagenes/main/Metnum4.PNG\" />\n"
      ]
    },
    {
      "cell_type": "code",
      "metadata": {
        "id": "DLzUsS8YMlNK",
        "colab": {
          "base_uri": "https://localhost:8080/",
          "height": 38
        },
        "outputId": "2b5e9fc3-fc40-4926-c705-ea2b26bf4265"
      },
      "source": [
        "from sympy import Symbol, solveset, Eq\n",
        "x = Symbol('x')\n",
        "solveset(Eq(x**10 - 80*x**9 + 2745*x**8 - 53400*x**7 + 653223*x**6 - 5250480*x**5 + 28055555*x**4 - 98234200*x**3 + 215195676*x**2 - 265562640*x + 139708800, 0), x)\n"
      ],
      "execution_count": null,
      "outputs": [
        {
          "output_type": "execute_result",
          "data": {
            "text/plain": [
              "{2, 3, 4, 5, 7, 8, 9, 10, 11, 21}"
            ],
            "text/latex": "$\\displaystyle \\left\\{2, 3, 4, 5, 7, 8, 9, 10, 11, 21\\right\\}$"
          },
          "metadata": {},
          "execution_count": 26
        }
      ]
    },
    {
      "cell_type": "markdown",
      "source": [
        "(π*e - sqrt(5)) x^2 + log(10, 5) x = 0"
      ],
      "metadata": {
        "id": "s11_n3L2E_tY"
      }
    },
    {
      "cell_type": "markdown",
      "source": [
        "<img src=\"https://raw.githubusercontent.com/ggonzalezbo/Imagenes/main/Metnum5.png\" />\n"
      ],
      "metadata": {
        "id": "pi7rUwG472tc"
      }
    },
    {
      "cell_type": "code",
      "metadata": {
        "colab": {
          "base_uri": "https://localhost:8080/",
          "height": 58
        },
        "id": "ALzYmizCcXvv",
        "outputId": "77b29c86-419f-46e7-d0d7-44e83c3bead0"
      },
      "source": [
        "from sympy import Symbol, solveset, Eq, log, sqrt, pi, E\n",
        "x = Symbol('x')\n",
        "solveset(Eq((pi*E - sqrt(5))*x**2 + log(10, 5)*x , 0), x)\n"
      ],
      "execution_count": null,
      "outputs": [
        {
          "output_type": "execute_result",
          "data": {
            "text/plain": [
              "{0, log(10**(1/((-E*pi + sqrt(5))*log(5))))}"
            ],
            "text/latex": "$\\displaystyle \\left\\{0, \\log{\\left(10^{\\frac{1}{\\left(- e \\pi + \\sqrt{5}\\right) \\log{\\left(5 \\right)}}} \\right)}\\right\\}$"
          },
          "metadata": {},
          "execution_count": 37
        }
      ]
    },
    {
      "cell_type": "markdown",
      "metadata": {
        "id": "kw48-B_Z_vQc"
      },
      "source": [
        "*   Reference docs for the Poly Domains https://docs.sympy.org/dev/modules/polys/domainsref.html\n",
        "\n",
        "*   Introducing the Domains of the poly module https://docs.sympy.org/dev/modules/polys/domainsintro.html\n",
        "\n",
        "*   Internals of the Polynomial Manipulation Module https://docs.sympy.org/latest/modules/polys/internals.html"
      ]
    },
    {
      "cell_type": "markdown",
      "source": [
        "<img src=\"https://raw.githubusercontent.com/ggonzalezbo/Imagenes/main/Metnum6.png\" />"
      ],
      "metadata": {
        "id": "G4hb9Ak_-ujE"
      }
    },
    {
      "cell_type": "code",
      "source": [
        "from sympy import Symbol,factor\n",
        "x = Symbol('x')\n",
        "factor(x**10 - 80*x**9 + 2745*x**8 - 53400*x**7 + 653223*x**6 - 5250480*x**5 + 28055555*x**4 - 98234200*x**3 + 215195676*x**2 - 265562640*x + 139708800,domain='GF(5)')"
      ],
      "metadata": {
        "colab": {
          "base_uri": "https://localhost:8080/",
          "height": 39
        },
        "id": "EdK4Tfz0-dLW",
        "outputId": "57741e9a-5522-43c6-8fe5-c21e7025b644"
      },
      "execution_count": null,
      "outputs": [
        {
          "output_type": "execute_result",
          "data": {
            "text/plain": [
              "x**2*(x - 2)**2*(x - 1)**2*(x + 1)**2*(x + 2)**2"
            ],
            "text/latex": "$\\displaystyle x^{2} \\left(x - 2\\right)^{2} \\left(x - 1\\right)^{2} \\left(x + 1\\right)^{2} \\left(x + 2\\right)^{2}$"
          },
          "metadata": {},
          "execution_count": 21
        }
      ]
    },
    {
      "cell_type": "markdown",
      "metadata": {
        "id": "OtsxSwPmV3Vs"
      },
      "source": [
        "## SymPy’s Symbolic and Numercical Complex Evaluations\n",
        "- https://docs.sympy.org/latest/modules/evalf.html](https://)\n",
        "- x y z donde x = x1 + i x2 + i x3, y = y1 + i y2 + i y3, z = i z"
      ]
    },
    {
      "cell_type": "markdown",
      "metadata": {
        "id": "XxWt-AcaZxdp"
      },
      "source": [
        "<img src=\"https://raw.githubusercontent.com/ggonzalezbo/Imagenes/main/Metnum7.png\" />"
      ]
    },
    {
      "cell_type": "code",
      "metadata": {
        "id": "ENDQbfLGV31r",
        "colab": {
          "base_uri": "https://localhost:8080/"
        },
        "outputId": "5ac25997-78e4-457f-d95d-ecda69bb3bb3"
      },
      "source": [
        "from sympy import symbols, I, N, pi, expand\n",
        "x1, x2, x3, y1, y2, y3, z1= symbols(\"x1 x2 x3 y1 y2 y3 z1\", real=True)\n",
        "x = x1 + I*x2 + I*x3\n",
        "y = y1 + I*y2 + I*y3\n",
        "z = z1\n",
        "\n",
        "print(x*y*z)\n",
        "print(expand(x*y*z))\n",
        "print(expand((x*y)*z))\n",
        "print(expand(x*(y*z)))\n",
        "w=1/(pi + I)\n",
        "print('w=',w)\n",
        "w=N(w)\n",
        "print('w=',w)"
      ],
      "execution_count": null,
      "outputs": [
        {
          "output_type": "stream",
          "name": "stdout",
          "text": [
            "z1*(x1 + I*x2 + I*x3)*(y1 + I*y2 + I*y3)\n",
            "x1*y1*z1 + I*x1*y2*z1 + I*x1*y3*z1 + I*x2*y1*z1 - x2*y2*z1 - x2*y3*z1 + I*x3*y1*z1 - x3*y2*z1 - x3*y3*z1\n",
            "x1*y1*z1 + I*x1*y2*z1 + I*x1*y3*z1 + I*x2*y1*z1 - x2*y2*z1 - x2*y3*z1 + I*x3*y1*z1 - x3*y2*z1 - x3*y3*z1\n",
            "x1*y1*z1 + I*x1*y2*z1 + I*x1*y3*z1 + I*x2*y1*z1 - x2*y2*z1 - x2*y3*z1 + I*x3*y1*z1 - x3*y2*z1 - x3*y3*z1\n",
            "w= 1/(pi + I)\n",
            "w= 0.289025482222236 - 0.0919996683503752*I\n"
          ]
        }
      ]
    },
    {
      "cell_type": "markdown",
      "metadata": {
        "id": "eaqIgmnkPNVT"
      },
      "source": [
        "## Wolfram alpha answers quastion in natural languaje\n",
        "- What is the birth rate in Colombia in 2020?\n",
        "\n",
        "<img src=\"https://raw.githubusercontent.com/ggonzalezbo/Imagenes/main/Metnum10.PNG\" />"
      ]
    },
    {
      "cell_type": "markdown",
      "source": [
        "**Try the same question asked in Wolfram Alpha in ChatGPT**\n",
        "\n",
        "https://chat.openai.com/auth/login\n",
        "\n",
        "and post the answer screenshoot."
      ],
      "metadata": {
        "id": "tGGI_0Bq2NHa"
      }
    },
    {
      "cell_type": "markdown",
      "source": [
        "![Captura de pantalla 2024-03-11 143037.png](data:image/png;base64,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)"
      ],
      "metadata": {
        "id": "23M1ayxpBmqU"
      }
    },
    {
      "cell_type": "markdown",
      "source": [
        "\n",
        "<img src=\"https://raw.githubusercontent.com/ggonzalezbo/Imagenes/main/Metnum11.PNG\" />"
      ],
      "metadata": {
        "id": "H0dZGCo_xXVg"
      }
    },
    {
      "cell_type": "markdown",
      "source": [
        "## SymPy’s integrate\n",
        "\n",
        "<img src=\"https://raw.githubusercontent.com/ggonzalezbo/Imagenes/main/Metnum8.PNG\" />\n",
        "\n"
      ],
      "metadata": {
        "id": "FIbSSOvEC8R0"
      }
    },
    {
      "cell_type": "code",
      "source": [
        "from sympy import Symbol, integrate, sin, cos\n",
        "x = Symbol('x')\n",
        "integrate( (x**4)*(sin(x)**3)*(cos(x)**3), x)"
      ],
      "metadata": {
        "colab": {
          "base_uri": "https://localhost:8080/",
          "height": 131
        },
        "id": "p5wwxfa7BtzU",
        "outputId": "3909f143-9072-492a-978f-93953e9ff427"
      },
      "execution_count": null,
      "outputs": [
        {
          "output_type": "execute_result",
          "data": {
            "text/plain": [
              "x**4*sin(x)**6/24 + x**4*sin(x)**4*cos(x)**2/8 - x**4*sin(x)**2*cos(x)**4/8 - x**4*cos(x)**6/24 + x**3*sin(x)**5*cos(x)/6 + 4*x**3*sin(x)**3*cos(x)**3/9 + x**3*sin(x)*cos(x)**5/6 - 5*x**2*sin(x)**6/36 - x**2*sin(x)**4*cos(x)**2/6 + x**2*sin(x)**2*cos(x)**4/6 + 5*x**2*cos(x)**6/36 - 5*x*sin(x)**5*cos(x)/18 - 31*x*sin(x)**3*cos(x)**3/54 - 5*x*sin(x)*cos(x)**5/18 + 5*sin(x)**6/108 - 31*sin(x)**2*cos(x)**4/216 - 61*cos(x)**6/648"
            ],
            "text/latex": "$\\displaystyle \\frac{x^{4} \\sin^{6}{\\left(x \\right)}}{24} + \\frac{x^{4} \\sin^{4}{\\left(x \\right)} \\cos^{2}{\\left(x \\right)}}{8} - \\frac{x^{4} \\sin^{2}{\\left(x \\right)} \\cos^{4}{\\left(x \\right)}}{8} - \\frac{x^{4} \\cos^{6}{\\left(x \\right)}}{24} + \\frac{x^{3} \\sin^{5}{\\left(x \\right)} \\cos{\\left(x \\right)}}{6} + \\frac{4 x^{3} \\sin^{3}{\\left(x \\right)} \\cos^{3}{\\left(x \\right)}}{9} + \\frac{x^{3} \\sin{\\left(x \\right)} \\cos^{5}{\\left(x \\right)}}{6} - \\frac{5 x^{2} \\sin^{6}{\\left(x \\right)}}{36} - \\frac{x^{2} \\sin^{4}{\\left(x \\right)} \\cos^{2}{\\left(x \\right)}}{6} + \\frac{x^{2} \\sin^{2}{\\left(x \\right)} \\cos^{4}{\\left(x \\right)}}{6} + \\frac{5 x^{2} \\cos^{6}{\\left(x \\right)}}{36} - \\frac{5 x \\sin^{5}{\\left(x \\right)} \\cos{\\left(x \\right)}}{18} - \\frac{31 x \\sin^{3}{\\left(x \\right)} \\cos^{3}{\\left(x \\right)}}{54} - \\frac{5 x \\sin{\\left(x \\right)} \\cos^{5}{\\left(x \\right)}}{18} + \\frac{5 \\sin^{6}{\\left(x \\right)}}{108} - \\frac{31 \\sin^{2}{\\left(x \\right)} \\cos^{4}{\\left(x \\right)}}{216} - \\frac{61 \\cos^{6}{\\left(x \\right)}}{648}$"
          },
          "metadata": {},
          "execution_count": 9
        }
      ]
    },
    {
      "cell_type": "markdown",
      "source": [
        "<img src=\"https://raw.githubusercontent.com/ggonzalezbo/Imagenes/main/Metnum9.PNG\" />"
      ],
      "metadata": {
        "id": "JkW8LPxbD2Eq"
      }
    },
    {
      "cell_type": "code",
      "source": [
        "from sympy import Symbol, integrate, sin\n",
        "x = Symbol('x')\n",
        "integrate((x**4)*(sin(x)**3)*(cos(x)**3), (x,-10,5))\n"
      ],
      "metadata": {
        "colab": {
          "base_uri": "https://localhost:8080/",
          "height": 131
        },
        "id": "EoipdE0UD7Aa",
        "outputId": "1281c68b-4592-4779-a1bf-b404db127137"
      },
      "execution_count": null,
      "outputs": [
        {
          "output_type": "execute_result",
          "data": {
            "text/plain": [
              "-3700*sin(10)**4*cos(10)**2/3 - 11845*sin(10)**3*cos(10)**3/27 - 1475*sin(10)*cos(10)**5/9 - 43505*sin(10)**6/108 - 1475*sin(10)**5*cos(10)/9 + 175*sin(5)**5*cos(5)/9 + 2845*sin(5)**3*cos(5)**3/54 - 8003*sin(5)**2*cos(5)**4/108 + 175*sin(5)*cos(5)**5/9 - 7343*cos(5)**6/324 + 1775*sin(5)**4*cos(5)**2/24 + 4885*sin(5)**6/216 + 261061*cos(10)**6/648 + 266431*sin(10)**2*cos(10)**4/216"
            ],
            "text/latex": "$\\displaystyle - \\frac{3700 \\sin^{4}{\\left(10 \\right)} \\cos^{2}{\\left(10 \\right)}}{3} - \\frac{11845 \\sin^{3}{\\left(10 \\right)} \\cos^{3}{\\left(10 \\right)}}{27} - \\frac{1475 \\sin{\\left(10 \\right)} \\cos^{5}{\\left(10 \\right)}}{9} - \\frac{43505 \\sin^{6}{\\left(10 \\right)}}{108} - \\frac{1475 \\sin^{5}{\\left(10 \\right)} \\cos{\\left(10 \\right)}}{9} + \\frac{175 \\sin^{5}{\\left(5 \\right)} \\cos{\\left(5 \\right)}}{9} + \\frac{2845 \\sin^{3}{\\left(5 \\right)} \\cos^{3}{\\left(5 \\right)}}{54} - \\frac{8003 \\sin^{2}{\\left(5 \\right)} \\cos^{4}{\\left(5 \\right)}}{108} + \\frac{175 \\sin{\\left(5 \\right)} \\cos^{5}{\\left(5 \\right)}}{9} - \\frac{7343 \\cos^{6}{\\left(5 \\right)}}{324} + \\frac{1775 \\sin^{4}{\\left(5 \\right)} \\cos^{2}{\\left(5 \\right)}}{24} + \\frac{4885 \\sin^{6}{\\left(5 \\right)}}{216} + \\frac{261061 \\cos^{6}{\\left(10 \\right)}}{648} + \\frac{266431 \\sin^{2}{\\left(10 \\right)} \\cos^{4}{\\left(10 \\right)}}{216}$"
          },
          "metadata": {},
          "execution_count": 7
        }
      ]
    },
    {
      "cell_type": "code",
      "source": [
        "from sympy import Symbol, integrate, sin, N\n",
        "x = Symbol('x')\n",
        "N(integrate((x**4)*(sin(x)**3)*(cos(x)**3), (x,-10,5)))\n"
      ],
      "metadata": {
        "colab": {
          "base_uri": "https://localhost:8080/",
          "height": 38
        },
        "id": "rFRmuWfnEPWb",
        "outputId": "008e3392-4458-42a2-8c06-e48ea3a48cdb"
      },
      "execution_count": null,
      "outputs": [
        {
          "output_type": "execute_result",
          "data": {
            "text/plain": [
              "166.276688957048"
            ],
            "text/latex": "$\\displaystyle 166.276688957048$"
          },
          "metadata": {},
          "execution_count": 8
        }
      ]
    }
  ]
}